{
 "cells": [
  {
   "cell_type": "code",
   "execution_count": 1,
   "id": "44d3d1af",
   "metadata": {},
   "outputs": [],
   "source": [
    "# Import necessary libraries\n",
    "import pandas as pd\n",
    "from sklearn.model_selection import train_test_split\n",
    "from sklearn.ensemble import RandomForestRegressor\n",
    "from sklearn.preprocessing import OneHotEncoder, StandardScaler\n",
    "from sklearn.compose import ColumnTransformer\n",
    "from sklearn.pipeline import Pipeline\n",
    "import matplotlib.pyplot as plt"
   ]
  },
  {
   "cell_type": "code",
   "execution_count": 2,
   "id": "51136add",
   "metadata": {},
   "outputs": [
    {
     "name": "stdout",
     "output_type": "stream",
     "text": [
      "   Ad ID        ad_type Product/Service Name          category  \\\n",
      "0      1  Product-Based        Home Security          Security   \n",
      "1      2  Service-Based               Laptop  Health & Fitness   \n",
      "2      3  Service-Based               Laptop   Food & Beverage   \n",
      "3      4  Service-Based        Home Security     Entertainment   \n",
      "4      5  Service-Based        Home Security         Education   \n",
      "\n",
      "  target_audience      platform  Impressions  Clicks  Conversions  ad_spend  \\\n",
      "0   Professionals            TV        12634    5707          371   3163.92   \n",
      "1           Teens  Social Media        37623    8220          734   2171.18   \n",
      "2           Teens         Radio        30233    9719          925   3755.63   \n",
      "3           Teens        Online        13182    1121          961   5061.41   \n",
      "4   Professionals     Billboard        18486    4143          465   1833.91   \n",
      "\n",
      "    Revenue  ad_duration     Location              Date  \n",
      "0   7460.85            9     New York  01-01-2024 00:00  \n",
      "1  27860.60            2  Los Angeles  01-01-2024 01:00  \n",
      "2  30810.32           10  Los Angeles  01-01-2024 02:00  \n",
      "3  28762.36            2      Toronto  01-01-2024 03:00  \n",
      "4  37402.50            8      Toronto  01-01-2024 04:00  \n"
     ]
    }
   ],
   "source": [
    "# Load the dataset\n",
    "data = pd.read_csv('ad_data.csv')\n",
    "\n",
    "# Display the first few rows of the dataset to understand its structure\n",
    "print(data.head())"
   ]
  },
  {
   "cell_type": "code",
   "execution_count": 3,
   "id": "29890cda",
   "metadata": {},
   "outputs": [],
   "source": [
    "# Drop unnecessary columns (e.g., 'CTR') from the dataset\n",
    "data = data.drop(columns=['CTR'], errors='ignore')\n",
    "\n",
    "# Handle missing values (if any)\n",
    "data = data.dropna()"
   ]
  },
  {
   "cell_type": "code",
   "execution_count": 4,
   "id": "6aed1886",
   "metadata": {},
   "outputs": [],
   "source": [
    "# Feature-target split\n",
    "# Assuming 'Revenue' is the target variable for optimization\n",
    "X = data.drop(columns=['Revenue'])  # Features\n",
    "y = data['Revenue']  # Target\n",
    "\n",
    "# Identify categorical and numerical columns\n",
    "categorical_cols = X.select_dtypes(include=['object']).columns\n",
    "numerical_cols = X.select_dtypes(include=['number']).columns"
   ]
  },
  {
   "cell_type": "code",
   "execution_count": 5,
   "id": "5c0c3bbe",
   "metadata": {},
   "outputs": [
    {
     "name": "stdout",
     "output_type": "stream",
     "text": [
      "Predicted Revenue (first 5): [27694.1649 25961.6928 26826.8694 25102.2857 23183.1702]\n"
     ]
    }
   ],
   "source": [
    "# Preprocessing: OneHotEncode categorical columns and scale numerical columns\n",
    "preprocessor = ColumnTransformer(\n",
    "    transformers=[\n",
    "        ('num', StandardScaler(), numerical_cols),\n",
    "        ('cat', OneHotEncoder(handle_unknown='ignore'), categorical_cols)\n",
    "    ]\n",
    ")\n",
    "\n",
    "# Define the model (RandomForestRegressor as an example)\n",
    "model = RandomForestRegressor(random_state=42)\n",
    "\n",
    "# Create a pipeline that first preprocesses the data and then fits the model\n",
    "pipeline = Pipeline(steps=[\n",
    "    ('preprocessor', preprocessor),\n",
    "    ('model', model)\n",
    "])\n",
    "\n",
    "# Train-test split (80% training, 20% testing)\n",
    "X_train, X_test, y_train, y_test = train_test_split(X, y, test_size=0.2, random_state=42)\n",
    "\n",
    "# Fit the model on the training data\n",
    "pipeline.fit(X_train, y_train)\n",
    "\n",
    "# Make predictions on the test data\n",
    "predictions = pipeline.predict(X_test)\n",
    "\n",
    "# Display the first 5 predictions\n",
    "print(\"Predicted Revenue (first 5):\", predictions[:5])\n",
    "\n",
    "# Feature importance plot\n",
    "# Extract feature importance from the trained RandomForestRegressor\n",
    "feature_importances = pipeline.named_steps['model'].feature_importances_\n",
    "\n",
    "# Get feature names (after one-hot encoding)\n",
    "feature_names = numerical_cols.tolist() + list(pipeline.named_steps['preprocessor'].transformers_[1][1].get_feature_names_out(categorical_cols))"
   ]
  },
  {
   "cell_type": "code",
   "execution_count": 6,
   "id": "c63f8207",
   "metadata": {},
   "outputs": [
    {
     "name": "stdout",
     "output_type": "stream",
     "text": [
      "Top 5 Optimized Ads Strategies:\n",
      "Platform: Online, Ad Type: Product-Based - Predicted Total Revenue: 259500855.41860002\n",
      "Platform: Billboard, Ad Type: Product-Based - Predicted Total Revenue: 259038181.92829996\n",
      "Platform: Radio, Ad Type: Product-Based - Predicted Total Revenue: 258679843.2378\n",
      "Platform: Print Media, Ad Type: Product-Based - Predicted Total Revenue: 258068584.01889998\n",
      "Platform: Social Media, Ad Type: Product-Based - Predicted Total Revenue: 256710305.69959998\n"
     ]
    }
   ],
   "source": [
    "import itertools\n",
    "import pandas as pd\n",
    "\n",
    "def optimize_ads(data, model):\n",
    "    # Ensure that 'platform' and 'ad_type' columns exist\n",
    "    platforms = data['platform'].unique()  # Get unique values of platform\n",
    "    ad_types = data['ad_type'].unique()     # Get unique values of ad_type\n",
    "\n",
    "    # Create all possible combinations of platforms and ad types\n",
    "    combinations = list(itertools.product(platforms, ad_types))\n",
    "\n",
    "    # List to store the predicted revenue for each combination\n",
    "    optimized_results = []\n",
    "\n",
    "    for combo in combinations:\n",
    "        # Create a DataFrame with the combination of features\n",
    "        optimized_data = data.copy()\n",
    "        optimized_data['platform'] = combo[0]  # Assign the current platform\n",
    "        optimized_data['ad_type'] = combo[1]   # Assign the current ad_type\n",
    "\n",
    "        # Ensure that all other columns remain the same (except for 'Revenue' which we don't predict)\n",
    "        optimized_data = optimized_data.drop(columns='Revenue')  # Drop target column (if present)\n",
    "\n",
    "        # Make predictions for this new data\n",
    "        predicted_revenue = model.predict(optimized_data)\n",
    "\n",
    "        # Calculate the sum of predicted revenues for this combination\n",
    "        total_predicted_revenue = predicted_revenue.sum()\n",
    "\n",
    "        # Store the result along with the feature combination\n",
    "        optimized_results.append((combo, total_predicted_revenue))\n",
    "\n",
    "    # Sort the results by predicted revenue in descending order\n",
    "    optimized_results.sort(key=lambda x: x[1], reverse=True)\n",
    "\n",
    "    # Return the top 5 ad strategies (platform, ad_type, and predicted revenue)\n",
    "    top_5_optimized = optimized_results[:5]\n",
    "\n",
    "    return top_5_optimized\n",
    "\n",
    "# Example usage:\n",
    "optimized_ads = optimize_ads(data, pipeline)\n",
    "print(\"Top 5 Optimized Ads Strategies:\")\n",
    "for strategy, revenue in optimized_ads:\n",
    "    print(f\"Platform: {strategy[0]}, Ad Type: {strategy[1]} - Predicted Total Revenue: {revenue}\")\n"
   ]
  },
  {
   "cell_type": "code",
   "execution_count": 7,
   "id": "5d2e70d3",
   "metadata": {},
   "outputs": [
    {
     "data": {
      "image/png": "[encoded data removed]",
      "text/plain": [
       "<Figure size 600x300 with 1 Axes>"
      ]
     },
     "metadata": {},
     "output_type": "display_data"
    }
   ],
   "source": [
    "import itertools\n",
    "import pandas as pd\n",
    "import matplotlib.pyplot as plt\n",
    "\n",
    "def optimize_ads(data, model):\n",
    "    # Ensure that 'platform' and 'ad_type' columns exist\n",
    "    platforms = data['platform'].unique()  # Get unique values of platform\n",
    "    ad_types = data['ad_type'].unique()     # Get unique values of ad_type\n",
    "\n",
    "    # Create all possible combinations of platforms and ad types\n",
    "    combinations = list(itertools.product(platforms, ad_types))\n",
    "\n",
    "    # List to store the predicted revenue for each combination\n",
    "    optimized_results = []\n",
    "\n",
    "    for combo in combinations:\n",
    "        # Create a DataFrame with the combination of features\n",
    "        optimized_data = data.copy()\n",
    "        optimized_data['platform'] = combo[0]  # Assign the current platform\n",
    "        optimized_data['ad_type'] = combo[1]   # Assign the current ad_type\n",
    "\n",
    "        # Ensure that all other columns remain the same (except for 'Revenue' which we don't predict)\n",
    "        optimized_data = optimized_data.drop(columns='Revenue')  # Drop target column (if present)\n",
    "\n",
    "        # Make predictions for this new data\n",
    "        predicted_revenue = model.predict(optimized_data)\n",
    "\n",
    "        # Calculate the sum of predicted revenues for this combination\n",
    "        total_predicted_revenue = predicted_revenue.sum()\n",
    "\n",
    "        # Store the result along with the feature combination\n",
    "        optimized_results.append((combo, total_predicted_revenue))\n",
    "\n",
    "    # Sort the results by predicted revenue in descending order\n",
    "    optimized_results.sort(key=lambda x: x[1], reverse=True)\n",
    "\n",
    "    # Return the top 5 ad strategies (platform, ad_type, and predicted revenue)\n",
    "    top_5_optimized = optimized_results[:5]\n",
    "\n",
    "    return top_5_optimized\n",
    "\n",
    "# Example usage:\n",
    "optimized_ads = optimize_ads(data, pipeline)\n",
    "\n",
    "# Prepare data for plotting\n",
    "ad_strategies = [f\"{strategy[0]} - {strategy[1]}\" for strategy, _ in optimized_ads]\n",
    "revenues = [revenue for _, revenue in optimized_ads]\n",
    "\n",
    "# Plot the top 5 ad strategies\n",
    "plt.figure(figsize=(6, 3))\n",
    "plt.barh(ad_strategies, revenues)\n",
    "plt.xlabel('Predicted Total Revenue')\n",
    "plt.title('Top 5 Optimized Ad Strategies')\n",
    "plt.show()\n"
   ]
  },
  {
   "cell_type": "code",
   "execution_count": 8,
   "id": "81062c89",
   "metadata": {},
   "outputs": [
    {
     "name": "stdout",
     "output_type": "stream",
     "text": [
      "Top 5 Recommended Ads:\n",
      "      Ad ID Product/Service Name         Category Target Audience  \\\n",
      "2090   2091           Smartphone    Entertainment        Students   \n",
      "1656   1657            Insurance          Finance           Teens   \n",
      "4373   4374       Travel Package           Travel        Families   \n",
      "5654   5655   Fitness Membership  Food & Beverage        Families   \n",
      "939     940        Home Security      Electronics        Students   \n",
      "\n",
      "          Platform  Impressions  Predicted_Revenue  \n",
      "2090  Social Media        41340         43955.7990  \n",
      "1656     Billboard        26592         43730.2964  \n",
      "4373  Social Media        10729         43687.0281  \n",
      "5654        Online        24170         43586.8214  \n",
      "939          Radio        13195         43472.4296  \n"
     ]
    }
   ],
   "source": [
    "def recommend_ads(data, model, top_n=5):\n",
    "    # Get predicted revenue for all ads in the dataset\n",
    "    predictions = model.predict(data.drop(columns='Revenue'))\n",
    "\n",
    "    # Create a DataFrame with relevant fields and predicted revenues\n",
    "    recommendations = pd.DataFrame({\n",
    "        'Ad ID': data['Ad ID'],\n",
    "        'Product/Service Name': data['Product/Service Name'],\n",
    "        'Category': data['category'],\n",
    "        'Target Audience': data['target_audience'],\n",
    "        'Platform': data['platform'],\n",
    "        'Impressions': data['Impressions'],\n",
    "        'Predicted_Revenue': predictions\n",
    "    })\n",
    "\n",
    "    # Sort by predicted revenue in descending order\n",
    "    recommendations = recommendations.sort_values(by='Predicted_Revenue', ascending=False)\n",
    "\n",
    "    # Return the top N recommended ads\n",
    "    return recommendations.head(top_n)\n",
    "\n",
    "# Example usage: Recommend the top 5 ads\n",
    "recommended_ads = recommend_ads(data, pipeline, top_n=5)\n",
    "print(\"Top 5 Recommended Ads:\")\n",
    "print(recommended_ads)\n"
   ]
  },
  {
   "cell_type": "code",
   "execution_count": null,
   "id": "13e246ee",
   "metadata": {},
   "outputs": [],
   "source": []
  }
 ],
 "metadata": {
  "kernelspec": {
   "display_name": "Python 3 (ipykernel)",
   "language": "python",
   "name": "python3"
  },
  "language_info": {
   "codemirror_mode": {
    "name": "ipython",
    "version": 3
   },
   "file_extension": ".py",
   "mimetype": "text/x-python",
   "name": "python",
   "nbconvert_exporter": "python",
   "pygments_lexer": "ipython3",
   "version": "3.11.3"
  }
 },
 "nbformat": 4,
 "nbformat_minor": 5
}
