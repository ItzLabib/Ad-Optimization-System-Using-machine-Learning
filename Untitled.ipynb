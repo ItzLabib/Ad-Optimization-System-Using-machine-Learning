{
 "cells": [
  {
   "cell_type": "code",
   "execution_count": 2,
   "id": "a14d9397",
   "metadata": {},
   "outputs": [
    {
     "name": "stdout",
     "output_type": "stream",
     "text": [
      "   Ad ID        ad_type Product/Service Name          category  \\\n",
      "0      1  Product-Based        Home Security          Security   \n",
      "1      2  Service-Based               Laptop  Health & Fitness   \n",
      "2      3  Service-Based               Laptop   Food & Beverage   \n",
      "3      4  Service-Based        Home Security     Entertainment   \n",
      "4      5  Service-Based        Home Security         Education   \n",
      "\n",
      "  target_audience      platform  Impressions  Clicks  Conversions  ad_spend  \\\n",
      "0   Professionals            TV        12634    5707          371   3163.92   \n",
      "1           Teens  Social Media        37623    8220          734   2171.18   \n",
      "2           Teens         Radio        30233    9719          925   3755.63   \n",
      "3           Teens        Online        13182    1121          961   5061.41   \n",
      "4   Professionals     Billboard        18486    4143          465   1833.91   \n",
      "\n",
      "    Revenue  ad_duration     Location              Date  \n",
      "0   7460.85            9     New York  01-01-2024 00:00  \n",
      "1  27860.60            2  Los Angeles  01-01-2024 01:00  \n",
      "2  30810.32           10  Los Angeles  01-01-2024 02:00  \n",
      "3  28762.36            2      Toronto  01-01-2024 03:00  \n",
      "4  37402.50            8      Toronto  01-01-2024 04:00  \n"
     ]
    }
   ],
   "source": [
    "# Import libraries\n",
    "import pandas as pd\n",
    "import numpy as np\n",
    "import matplotlib.pyplot as plt\n",
    "import seaborn as sns\n",
    "from sklearn.model_selection import train_test_split\n",
    "from sklearn.ensemble import RandomForestRegressor\n",
    "from sklearn.metrics import mean_squared_error, mean_absolute_error, r2_score\n",
    "\n",
    "# Load the dataset\n",
    "df = pd.read_csv('ad_data.csv')\n",
    "\n",
    "# Display the first few rows\n",
    "print(df.head())\n",
    "\n",
    "# Data Preprocessing\n",
    "# Convert 'Date' to datetime\n",
    "df['Date'] = pd.to_datetime(df['Date'])\n",
    "\n",
    "# Encode categorical variables\n",
    "categorical_features = ['ad_type', 'category', 'target_audience', 'platform', 'Location']\n",
    "df = pd.get_dummies(df, columns=categorical_features, drop_first=True)\n",
    "\n",
    "# Handle missing values\n",
    "df.fillna(0, inplace=True)\n",
    "\n",
    "# Feature Engineering\n",
    "df['CTR'] = df['Clicks'] / (df['Impressions'] + 1e-9)  # Avoid division by zero\n",
    "#df['CPC'] = df['ad\n",
    "df['CPC'] = df['ad_spend'] / (df['Clicks'] + 1e-9)  # Avoid division by zero\n"
   ]
  },
  {
   "cell_type": "code",
   "execution_count": 5,
   "id": "69d9d2bd",
   "metadata": {},
   "outputs": [
    {
     "data": {
      "text/plain": [
       "['feature_columns.pkl']"
      ]
     },
     "execution_count": 5,
     "metadata": {},
     "output_type": "execute_result"
    }
   ],
   "source": [
    "import joblib\n",
    "\n",
    "# Save the models\n",
    "joblib.dump(rf_model_conv, 'conversion_model.pkl')\n",
    "joblib.dump(rf_model_rev, 'revenue_model.pkl')\n",
    "\n",
    "# Save feature list for consistency during prediction\n",
    "joblib.dump(X.columns, 'feature_columns.pkl')\n",
    "\n"
   ]
  },
  {
   "cell_type": "code",
   "execution_count": null,
   "id": "0d7925b2",
   "metadata": {},
   "outputs": [],
   "source": []
  }
 ],
 "metadata": {
  "kernelspec": {
   "display_name": "Python 3 (ipykernel)",
   "language": "python",
   "name": "python3"
  },
  "language_info": {
   "codemirror_mode": {
    "name": "ipython",
    "version": 3
   },
   "file_extension": ".py",
   "mimetype": "text/x-python",
   "name": "python",
   "nbconvert_exporter": "python",
   "pygments_lexer": "ipython3",
   "version": "3.11.3"
  }
 },
 "nbformat": 4,
 "nbformat_minor": 5
}
